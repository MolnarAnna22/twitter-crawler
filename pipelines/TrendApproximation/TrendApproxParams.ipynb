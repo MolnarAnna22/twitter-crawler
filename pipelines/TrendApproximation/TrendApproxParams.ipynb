{
 "cells": [
  {
   "cell_type": "code",
   "execution_count": null,
   "metadata": {
    "collapsed": false
   },
   "outputs": [],
   "source": [
    "from datawand.parametrization import ConfigGenerator"
   ]
  },
  {
   "cell_type": "markdown",
   "metadata": {},
   "source": [
    "# Initialize configuration generator"
   ]
  },
  {
   "cell_type": "code",
   "execution_count": null,
   "metadata": {
    "collapsed": true
   },
   "outputs": [],
   "source": [
    "pipeline_name = \"TrendApproximation\""
   ]
  },
  {
   "cell_type": "code",
   "execution_count": null,
   "metadata": {
    "collapsed": false
   },
   "outputs": [],
   "source": [
    "cg = ConfigGenerator(pipeline_name='TrendApproximation')"
   ]
  },
  {
   "cell_type": "markdown",
   "metadata": {},
   "source": [
    "# Setting default parameters for pipeline"
   ]
  },
  {
   "cell_type": "code",
   "execution_count": null,
   "metadata": {
    "collapsed": true
   },
   "outputs": [],
   "source": [
    "DEFAULTS = {}"
   ]
  },
  {
   "cell_type": "markdown",
   "metadata": {},
   "source": [
    "#### Set your default parameters below:"
   ]
  },
  {
   "cell_type": "markdown",
   "metadata": {},
   "source": [
    "## File Paths"
   ]
  },
  {
   "cell_type": "code",
   "execution_count": null,
   "metadata": {
    "collapsed": true
   },
   "outputs": [],
   "source": [
    "DEFAULTS[\"schedule_file_path\"] = \"/mnt/idms/fberes/network/roland_garros/data/schedule_new_df.csv\"\n",
    "DEFAULTS[\"player_name_with_accounts_file_path\"] = \"/mnt/idms/fberes/network/online_ranker/roland_garros_updated_schedule/filtered_true_matches.json\"\n",
    "DEFAULTS[\"player_screen_names_file_path\"] = \"/mnt/idms/fberes/network/online_ranker/roland_garros_updated_schedule/filtered_true_matches_screen_names.json\"\n",
    "DEFAULTS[\"player_names_file_path\"] = \"/mnt/idms/fberes/network/combined_occ/player_name_parts.txt\""
   ]
  },
  {
   "cell_type": "code",
   "execution_count": null,
   "metadata": {
    "collapsed": true
   },
   "outputs": [],
   "source": [
    "DEFAULTS[\"unstemmed_tweet_file_path\"] = \"/mnt/idms/fberes/network/roland_garros/data/rg17_tweets_eng.csv\"\n",
    "DEFAULTS[\"stemmed_tweet_file_path\"] = \"/mnt/idms/fberes/network/roland_garros/data/rg17_tweets_eng_stemmed.csv\""
   ]
  },
  {
   "cell_type": "code",
   "execution_count": null,
   "metadata": {
    "collapsed": true
   },
   "outputs": [],
   "source": [
    "DEFAULTS[\"stop_words_file_path\"] = \"/mnt/idms/fberes/network/combined_occ/stop_words_en.txt\""
   ]
  },
  {
   "cell_type": "markdown",
   "metadata": {},
   "source": [
    "## Experiment Params"
   ]
  },
  {
   "cell_type": "code",
   "execution_count": null,
   "metadata": {
    "collapsed": true
   },
   "outputs": [],
   "source": [
    "DEFAULTS[\"flink_outs_prefix\"] = \"/mnt/idms/fberes/network/combined_occ/flink_jobs/outputs/\""
   ]
  },
  {
   "cell_type": "code",
   "execution_count": null,
   "metadata": {
    "collapsed": true
   },
   "outputs": [],
   "source": [
    "#DEFAULTS[\"experiment_id\"] = \"rg17_20171018_8000_en-players_3h-plus2h_accurate\"\n",
    "#DEFAULTS[\"experiment_id\"] = \"rg17_20171027_8000_en-players_3h-plus2h_accurate\"\n",
    "#DEFAULTS[\"experiment_id\"] = \"rg17_20171211_8000_en-players_3h-plus2h_accurate\""
   ]
  },
  {
   "cell_type": "code",
   "execution_count": null,
   "metadata": {
    "collapsed": true
   },
   "outputs": [],
   "source": [
    "#DEFAULTS[\"experiment_id\"] = \"rg17_20171218_hashmax20000_8000_en-players_3h-plus2h_accurate\"\n",
    "#DEFAULTS[\"experiment_id\"] = \"rg17_20171218_hashmax10000_8000_en-players_3h-plus2h_accurate\""
   ]
  },
  {
   "cell_type": "code",
   "execution_count": null,
   "metadata": {
    "collapsed": true
   },
   "outputs": [],
   "source": [
    "DEFAULTS[\"experiment_id\"] = \"rg17_20171218_hashmax3000_8000_en-players_3h-plus2h_murmur\"\n",
    "#DEFAULTS[\"experiment_id\"] = \"rg17_20171218_hashmax10000_8000_en-players_3h-plus2h_murmur\""
   ]
  },
  {
   "cell_type": "code",
   "execution_count": null,
   "metadata": {
    "collapsed": true
   },
   "outputs": [],
   "source": [
    "DEFAULTS[\"experiment_prefix\"] = \"/mnt/idms/fberes/network/combined_occ/experiments/\""
   ]
  },
  {
   "cell_type": "code",
   "execution_count": null,
   "metadata": {
    "collapsed": true
   },
   "outputs": [],
   "source": [
    "DEFAULTS[\"word_corpus\"] = \"/mnt/idms/fberes/network/roland_garros/data/rg17_8000_important_en_words_plus_players.txt\""
   ]
  },
  {
   "cell_type": "code",
   "execution_count": null,
   "metadata": {
    "collapsed": true
   },
   "outputs": [],
   "source": [
    "DEFAULTS[\"keywords_for_eval_path\"] = \"/mnt/idms/fberes/network/combined_occ/eval_keywords.csv\"\n",
    "DEFAULTS[\"time_hour_vals\"] = [1,4,7,10,13,16,19,22]"
   ]
  },
  {
   "cell_type": "code",
   "execution_count": null,
   "metadata": {
    "collapsed": true
   },
   "outputs": [],
   "source": [
    "DEFAULTS[\"score_c_vals\"] = [0,1,2,5,8,10]\n",
    "DEFAULTS[\"snapshot_weight\"] = 0.5\n",
    "DEFAULTS[\"frequency_weight\"] = 0.0"
   ]
  },
  {
   "cell_type": "code",
   "execution_count": null,
   "metadata": {
    "collapsed": true
   },
   "outputs": [],
   "source": [
    "DEFAULTS[\"relevance_type\"] = \"multi\"#\"binary\"\n",
    "#DEFAULTS[\"relevance_subset\"] = \"positive\"\n",
    "#DEFAULTS[\"relevance_subset\"] = \"signed\"\n",
    "DEFAULTS[\"relevance_subset\"] = \"discriminative\""
   ]
  },
  {
   "cell_type": "markdown",
   "metadata": {},
   "source": [
    "### Word2Vec parameters"
   ]
  },
  {
   "cell_type": "code",
   "execution_count": null,
   "metadata": {
    "collapsed": true
   },
   "outputs": [],
   "source": [
    "DEFAULTS[\"w2v_model_dim\"] = 100"
   ]
  },
  {
   "cell_type": "markdown",
   "metadata": {},
   "source": [
    "### Setting other path parameters"
   ]
  },
  {
   "cell_type": "code",
   "execution_count": null,
   "metadata": {
    "collapsed": true
   },
   "outputs": [],
   "source": [
    "def init_experiment_params(dict_obj, experiment_id, experiment_dir_prefix):\n",
    "    dict_obj[\"experiment_dir\"] = \"%s/%s\" % (experiment_dir_prefix, experiment_id)\n",
    "    dict_obj[\"w2v_root_folder\"] = \"%s/models/w2v/\" % dict_obj[\"experiment_dir\"]\n",
    "    dict_obj[\"distance_root_folder\"] = \"%s/models/distance/\" % dict_obj[\"experiment_dir\"]"
   ]
  },
  {
   "cell_type": "code",
   "execution_count": null,
   "metadata": {
    "collapsed": true
   },
   "outputs": [],
   "source": [
    "init_experiment_params(DEFAULTS, DEFAULTS[\"experiment_id\"], DEFAULTS[\"experiment_prefix\"])"
   ]
  },
  {
   "cell_type": "markdown",
   "metadata": {},
   "source": [
    "# Setting parameters for notebooks"
   ]
  },
  {
   "cell_type": "code",
   "execution_count": null,
   "metadata": {
    "collapsed": true
   },
   "outputs": [],
   "source": [
    "PARAMETERS = {}"
   ]
  },
  {
   "cell_type": "code",
   "execution_count": null,
   "metadata": {
    "collapsed": false
   },
   "outputs": [],
   "source": [
    "for nb_name in cg.pythonitem_names:\n",
    "    PARAMETERS[nb_name] = []\n",
    "print(PARAMETERS)"
   ]
  },
  {
   "cell_type": "markdown",
   "metadata": {},
   "source": [
    "#### Set your parameters for each notebooks below: \n",
    "\n",
    "##### You can specify the ending of the names of the generated notebook clones, if you add an \"\\_\\_ ending \\_\\_\" parameter. (Otherwise they will end with \\_CLONE\\_1, \\_CLONE\\_2, etc.)\n",
    "##### WARNING: if the name of the generated notebook clone is not an identifier, then luigi will NOT be able to run it."
   ]
  },
  {
   "cell_type": "markdown",
   "metadata": {
    "collapsed": true
   },
   "source": [
    "for rs in [\"positive\",\"signed\",\"discriminative\"]:\n",
    "    PARAMETERS['ToplistEvaluatorFinals'].append({\"relevance_subset\" : rs})"
   ]
  },
  {
   "cell_type": "markdown",
   "metadata": {
    "collapsed": true
   },
   "source": [
    "for weights in [(0.3,0.3),(0.5,0.5),(0.0,0.0),(1.0,0.0),(0.1,0.8)]:\n",
    "    sw, fw = weights\n",
    "    PARAMETERS['ToplistEvaluatorFinals'].append({\"score_c_vals\":[0,5,10],\"snapshot_weight\":sw,\"frequency_weight\":fw})"
   ]
  },
  {
   "cell_type": "markdown",
   "metadata": {},
   "source": [
    "# Export parameters into pipeline configuration file"
   ]
  },
  {
   "cell_type": "code",
   "execution_count": null,
   "metadata": {
    "collapsed": false
   },
   "outputs": [],
   "source": [
    "cg.save_params(PARAMETERS,DEFAULTS)"
   ]
  },
  {
   "cell_type": "markdown",
   "metadata": {},
   "source": [
    "cg.pipeline_cfg"
   ]
  },
  {
   "cell_type": "code",
   "execution_count": null,
   "metadata": {
    "collapsed": false
   },
   "outputs": [],
   "source": [
    ""
   ]
  }
 ],
 "metadata": {
  "anaconda-cloud": {},
  "kernelspec": {
   "display_name": "Python [conda env:dm-3-env]",
   "language": "python",
   "name": "conda-env-dm-3-env-py"
  },
  "language_info": {
   "codemirror_mode": {
    "name": "ipython",
    "version": 3
   },
   "file_extension": ".py",
   "mimetype": "text/x-python",
   "name": "python",
   "nbconvert_exporter": "python",
   "pygments_lexer": "ipython3",
   "version": "3.5.2"
  }
 },
 "nbformat": 4,
 "nbformat_minor": 1
}